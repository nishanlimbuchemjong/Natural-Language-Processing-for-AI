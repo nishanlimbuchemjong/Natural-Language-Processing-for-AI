{
 "cells": [
  {
   "cell_type": "code",
   "execution_count": null,
   "id": "d898acd5-9a41-4168-acad-76261c10526f",
   "metadata": {},
   "outputs": [],
   "source": [
    "import pandas as pd\n",
    "import numpy as np"
   ]
  },
  {
   "cell_type": "markdown",
   "id": "d4ce1a60-9d4f-4d11-b413-e499a6f2dccd",
   "metadata": {},
   "source": [
    "# Load Dataset"
   ]
  },
  {
   "cell_type": "code",
   "execution_count": null,
   "id": "664a7d9d-e773-42fd-82fa-b7d6de0f1b3f",
   "metadata": {},
   "outputs": [],
   "source": [
    "df = pd.read_csv('Dataset/imbd_dataset.csv')\n",
    "df.head()"
   ]
  },
  {
   "cell_type": "markdown",
   "id": "51b3e303-0c3a-4e61-9056-ea9a4c9eadc5",
   "metadata": {},
   "source": [
    "# Text Preprocessing"
   ]
  },
  {
   "cell_type": "markdown",
   "id": "4172494c-f9ac-4977-83ac-1e052848bf95",
   "metadata": {},
   "source": [
    "### 1. Lowercasing"
   ]
  },
  {
   "cell_type": "code",
   "execution_count": null,
   "id": "d145266c-f5b6-4194-ac49-ddcbfc75875d",
   "metadata": {},
   "outputs": [],
   "source": [
    "df['review'][3]\n",
    "df['review'][3].lower()"
   ]
  },
  {
   "cell_type": "code",
   "execution_count": null,
   "id": "d62f1dd7-1380-434f-80a5-a475d9275a01",
   "metadata": {},
   "outputs": [],
   "source": [
    "df['review'] = df['review'].str.lower()\n",
    "df.head()"
   ]
  },
  {
   "cell_type": "markdown",
   "id": "85d37f81-8032-48bd-b9e9-67ac87253311",
   "metadata": {},
   "source": [
    "### 2. Remove regular expression, HTML Tags"
   ]
  },
  {
   "cell_type": "code",
   "execution_count": null,
   "id": "d6d15961-ad9d-49c5-affb-6bb8ccd0b1ff",
   "metadata": {},
   "outputs": [],
   "source": [
    "import re\n",
    "\n",
    "def remove_html_tags(text):\n",
    "    pattern = re.compile('<.*?>')\n",
    "    return pattern.sub(r'', text)"
   ]
  },
  {
   "cell_type": "code",
   "execution_count": null,
   "id": "e86c4e06-0ae0-48a0-8390-6d5534dca017",
   "metadata": {},
   "outputs": [],
   "source": [
    "# For eg:\n",
    "text = \"<p>This is a paragraph of text explaining a concept.</p>\"\n",
    "\n",
    "# calling the function to remove html tags\n",
    "remove_html_tags(text)\n"
   ]
  },
  {
   "cell_type": "code",
   "execution_count": null,
   "id": "99cec899-5467-4d8f-b789-65a6586426bd",
   "metadata": {},
   "outputs": [],
   "source": [
    "# Now applying to dataset\n",
    "df['review'] = df['review'].apply(remove_html_tags)\n",
    "df.head()"
   ]
  },
  {
   "cell_type": "markdown",
   "id": "db93f272-81f1-4020-b7b8-95ed11a1549f",
   "metadata": {},
   "source": [
    "### 3. Remove URLs"
   ]
  },
  {
   "cell_type": "code",
   "execution_count": null,
   "id": "69d674ab-1998-46e7-8258-b64de826c580",
   "metadata": {},
   "outputs": [],
   "source": [
    "def remove_url(text):\n",
    "    pattern = re.compile(r'https?://\\S+|www.\\.\\S+')\n",
    "    return pattern.sub(r'', text)"
   ]
  },
  {
   "cell_type": "code",
   "execution_count": null,
   "id": "3729ec44-bd93-4165-a553-08555bb97a4f",
   "metadata": {},
   "outputs": [],
   "source": [
    "# for Example:\n",
    "text1 = \"Check out the link: https://www.google.com\"\n",
    "\n",
    "# calling the function\n",
    "remove_url(text1)"
   ]
  },
  {
   "cell_type": "markdown",
   "id": "a1ab3cca-dbcd-4a1e-a75c-719ee43be3a1",
   "metadata": {},
   "source": [
    "### 4. Remove Punctuations"
   ]
  },
  {
   "cell_type": "code",
   "execution_count": null,
   "id": "a04daefb-0f97-4d2c-91fd-2c52e60e4327",
   "metadata": {},
   "outputs": [],
   "source": [
    "import string, time\n",
    "string.punctuation"
   ]
  },
  {
   "cell_type": "code",
   "execution_count": null,
   "id": "44ee868c-e782-48b7-bbbc-8f2c7df1cad8",
   "metadata": {},
   "outputs": [],
   "source": [
    "exclude = string.punctuation\n",
    "def remove_punc(text):\n",
    "    for char in exclude:\n",
    "        text = text.replace(char, '')\n",
    "    return text"
   ]
  },
  {
   "cell_type": "code",
   "execution_count": null,
   "id": "56cffd3a-328f-471c-9272-fb7d8930cda0",
   "metadata": {},
   "outputs": [],
   "source": [
    "# for example:\n",
    "txt = 'How are you? wOW! nice job.'\n",
    "remove_punc(txt)"
   ]
  },
  {
   "cell_type": "code",
   "execution_count": null,
   "id": "fa5e30cc-4379-4c3c-aff1-bf2b189306b2",
   "metadata": {},
   "outputs": [],
   "source": [
    "# the above method is too slow\n",
    "# so another method is given below:\n",
    "def remove_punct(txt):\n",
    "    return txt.translate(str.maketrans('', '', exclude))\n",
    "text = \"How are you> woW! nice job.\"\n",
    "remove_punct(text)"
   ]
  },
  {
   "cell_type": "code",
   "execution_count": null,
   "id": "c7e10817-d92c-4253-b9a0-2b500c4c66ac",
   "metadata": {},
   "outputs": [],
   "source": [
    "# Applying in a dataset:\n",
    "df['review'] = df['review'].apply(remove_punct)\n",
    "df.head()"
   ]
  },
  {
   "cell_type": "markdown",
   "id": "810d8aaa-0cb2-4c48-9c76-2788ff2dd05c",
   "metadata": {},
   "source": [
    "### 5. Spelling Correction"
   ]
  },
  {
   "cell_type": "code",
   "execution_count": null,
   "id": "75bccbb3-40f8-459d-afd5-e9480436a507",
   "metadata": {},
   "outputs": [],
   "source": [
    "# !pip install textblob"
   ]
  },
  {
   "cell_type": "code",
   "execution_count": null,
   "id": "d91dfc54-316d-4800-b0bb-a9f019dca43f",
   "metadata": {},
   "outputs": [],
   "source": [
    "from textblob import TextBlob"
   ]
  },
  {
   "cell_type": "code",
   "execution_count": null,
   "id": "a35572de-3fb9-4b4f-bc5e-3f73458d00e7",
   "metadata": {},
   "outputs": [],
   "source": [
    "# For example:\n",
    "incorrect = 'ceertain conditons furing several ggenarations are modifiedd in the saame maner.'\n",
    "textblb = TextBlob(incorrect)\n",
    "textblb.correct().string"
   ]
  },
  {
   "cell_type": "markdown",
   "id": "ec430a21-04c8-4a90-b279-4c149104bd76",
   "metadata": {},
   "source": [
    "### 6. Remove Stop Words"
   ]
  },
  {
   "cell_type": "code",
   "execution_count": null,
   "id": "a4ee9a1b-97e8-40cc-a720-f10f8346bfcd",
   "metadata": {},
   "outputs": [],
   "source": [
    "from nltk.corpus import stopwords"
   ]
  },
  {
   "cell_type": "code",
   "execution_count": null,
   "id": "454a4b50-d0f4-43f2-bf1d-c35a6dbb99b1",
   "metadata": {},
   "outputs": [],
   "source": [
    "# stopwords.words('english')"
   ]
  },
  {
   "cell_type": "code",
   "execution_count": null,
   "id": "59430d2b-882b-4caf-81ce-16f22853d5eb",
   "metadata": {},
   "outputs": [],
   "source": [
    "def remove_stopwords(text):\n",
    "    new_text = []\n",
    "    for word in text.split():\n",
    "        if word in stopwords.words(\"english\"):\n",
    "            new_text.append('')\n",
    "        else:\n",
    "            new_text.append(word)\n",
    "    x = new_text[:]\n",
    "    new_text.clear()\n",
    "    return \" \".join(x)"
   ]
  },
  {
   "cell_type": "code",
   "execution_count": null,
   "id": "b8600dd0-7697-424b-a198-801f00d3e116",
   "metadata": {},
   "outputs": [],
   "source": [
    "# for eg:\n",
    "remove_stopwords('probably my all-time favourite movie, a story of selflessness, sacrifie and dedication to their goal')"
   ]
  },
  {
   "cell_type": "code",
   "execution_count": null,
   "id": "b2dad5a6-e8d0-4777-8aab-044ae416d0de",
   "metadata": {},
   "outputs": [],
   "source": [
    "# applying to the dataset\n",
    "df['reivew'] = df['review'].apply(remove_stopwords)\n",
    "df.head()"
   ]
  },
  {
   "cell_type": "code",
   "execution_count": null,
   "id": "50235728-7cc3-4ebb-8d94-173092aa03a7",
   "metadata": {},
   "outputs": [],
   "source": []
  }
 ],
 "metadata": {
  "kernelspec": {
   "display_name": "Python [conda env:base] *",
   "language": "python",
   "name": "conda-base-py"
  },
  "language_info": {
   "codemirror_mode": {
    "name": "ipython",
    "version": 3
   },
   "file_extension": ".py",
   "mimetype": "text/x-python",
   "name": "python",
   "nbconvert_exporter": "python",
   "pygments_lexer": "ipython3",
   "version": "3.12.7"
  }
 },
 "nbformat": 4,
 "nbformat_minor": 5
}
